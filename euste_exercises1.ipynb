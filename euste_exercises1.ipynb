{
 "cells": [
  {
   "cell_type": "markdown",
   "id": "bc584cda",
   "metadata": {},
   "source": [
    "# EUSTE, JOHN LAWRENCE"
   ]
  },
  {
   "cell_type": "markdown",
   "id": "0caf547b",
   "metadata": {},
   "source": [
    "### **Exercise 1:**\n",
    "The Recamán sequence is a famous sequence invented by the Colombian mathematician, Bernardo Recamán Santos. It is defined by the following algorithm, starting at $a_0=0$:\n",
    "\n",
    "$ a_n=a_{n-1}−n$ if $a_{n-1}-n > 0  $ and has not already appeared in the sequence; \n",
    "\n",
    "$ a_n=a_{n−1}+n$ otherwise\n",
    "\n",
    "Write a function that returns the first N elements of this sequence."
   ]
  },
  {
   "cell_type": "code",
   "execution_count": 1,
   "id": "126a1afd",
   "metadata": {},
   "outputs": [],
   "source": [
    "import numpy as np"
   ]
  },
  {
   "cell_type": "code",
   "execution_count": 2,
   "id": "65c57694",
   "metadata": {},
   "outputs": [],
   "source": [
    "def recaman(n):\n",
    "    rec_list = [0]\n",
    "    \n",
    "    for i in range(1,n):\n",
    "        a_nm = rec_list[i-1] - i\n",
    "        if (a_nm > 0) and not(a_nm in rec_list[:i]):\n",
    "            rec_list.append(a_nm)\n",
    "        else:\n",
    "            rec_list.append(rec_list[i-1] + i)\n",
    "    \n",
    "    return rec_list"
   ]
  },
  {
   "cell_type": "code",
   "execution_count": 3,
   "id": "c30546f0-6df3-4921-b8be-8edd3e946f26",
   "metadata": {},
   "outputs": [
    {
     "data": {
      "text/plain": [
       "[0, 1, 3, 6, 2, 7, 13, 20, 12, 21]"
      ]
     },
     "execution_count": 3,
     "metadata": {},
     "output_type": "execute_result"
    }
   ],
   "source": [
    "# try for n = 10\n",
    "recaman(10)"
   ]
  },
  {
   "cell_type": "markdown",
   "id": "8bcdb251-a2db-4c60-83bc-e8562a3a9b1b",
   "metadata": {},
   "source": [
    "### **Exercise 2:**\n",
    "Write a function to solve a quadratic equation."
   ]
  },
  {
   "cell_type": "code",
   "execution_count": 4,
   "id": "8302fb29-7177-40c2-8e9a-e5ab38ba7085",
   "metadata": {},
   "outputs": [],
   "source": [
    "def quad_solve(a,b,c):\n",
    "    '''\n",
    "    ax^2 + bx + c = 0\n",
    "    x = [-b +- sqrt(b^2 - 4ac)]/ 2a\n",
    "    '''\n",
    "    \n",
    "    x_p = (-b + np.sqrt(b**2 - 4.*a*c)) / (2.*a)\n",
    "    x_m = (-b - np.sqrt(b**2 - 4.*a*c)) / (2.*a)\n",
    "    \n",
    "    return x_p,x_m"
   ]
  },
  {
   "cell_type": "code",
   "execution_count": 5,
   "id": "488af2b2-30cf-4df9-bd4c-fb4849f1e467",
   "metadata": {},
   "outputs": [
    {
     "data": {
      "text/plain": [
       "(2.0, -2.0)"
      ]
     },
     "execution_count": 5,
     "metadata": {},
     "output_type": "execute_result"
    }
   ],
   "source": [
    "# try for x^2 - 4 = 0\n",
    "quad_solve(1,0,-4)"
   ]
  },
  {
   "cell_type": "markdown",
   "id": "1d6ba7c9-8531-4312-85aa-a95402e58e4f",
   "metadata": {},
   "source": [
    "### **Exercise 3**\n",
    "Print the list `mylist` sorted in descending order. The original list should not be modified"
   ]
  },
  {
   "cell_type": "code",
   "execution_count": 6,
   "id": "1103af7b-c501-4cf2-9a04-511e991fbfce",
   "metadata": {},
   "outputs": [],
   "source": [
    "mylist=[1,-99,89,0,234,77,-748,11]"
   ]
  },
  {
   "cell_type": "code",
   "execution_count": 7,
   "id": "ca293f86-8021-44fb-864b-77074d08d797",
   "metadata": {},
   "outputs": [
    {
     "name": "stdout",
     "output_type": "stream",
     "text": [
      "[234, 89, 77, 11, 1, 0, -99, -748]\n"
     ]
    }
   ],
   "source": [
    "sort_mylist = mylist.copy()\n",
    "for i in range(len(mylist)):\n",
    "    for j in range(i+1,len(mylist)):\n",
    "        if (sort_mylist[j]>sort_mylist[i]):\n",
    "            a = sort_mylist[i]\n",
    "            sort_mylist[i] = sort_mylist[j]\n",
    "            sort_mylist[j] = a\n",
    "print(sort_mylist)"
   ]
  },
  {
   "cell_type": "code",
   "execution_count": 8,
   "id": "923fda5f-c62a-4b8b-8ea4-ffd01494310b",
   "metadata": {},
   "outputs": [
    {
     "name": "stdout",
     "output_type": "stream",
     "text": [
      "[234, 89, 77, 11, 1, 0, -99, -748]\n"
     ]
    }
   ],
   "source": [
    "print(sorted(mylist)[::-1]) #alternative way using sorted function"
   ]
  },
  {
   "cell_type": "code",
   "execution_count": 9,
   "id": "eec127ca-10c1-45fc-8b3c-4dafa3e1246c",
   "metadata": {},
   "outputs": [
    {
     "name": "stdout",
     "output_type": "stream",
     "text": [
      "[1, -99, 89, 0, 234, 77, -748, 11]\n"
     ]
    }
   ],
   "source": [
    "print(mylist) # to show that this is unchanged"
   ]
  },
  {
   "cell_type": "markdown",
   "id": "63e6fc85-6e81-45ef-9449-7a7dfebab83f",
   "metadata": {},
   "source": [
    "### **Exercise 4:**\n",
    "Given 2 lists, produce a list containing common items between the two."
   ]
  },
  {
   "cell_type": "code",
   "execution_count": 10,
   "id": "a9c63190-6552-49e7-af5f-b05513d673ec",
   "metadata": {},
   "outputs": [],
   "source": [
    "def common(list1,list2):\n",
    "    return [_ for _ in list1 if _ in list2]"
   ]
  },
  {
   "cell_type": "code",
   "execution_count": 11,
   "id": "5c3aea0b-194e-45fd-872e-5d041fdc27af",
   "metadata": {},
   "outputs": [
    {
     "name": "stdout",
     "output_type": "stream",
     "text": [
      "[1, 2]\n"
     ]
    }
   ],
   "source": [
    "# try for two arbitrary lists\n",
    "list1 = [1,2,3,4,5,6]\n",
    "list2 = [7,8,1,9,2,10,11]\n",
    "\n",
    "print(common(list1,list2))"
   ]
  },
  {
   "cell_type": "markdown",
   "id": "3b22afc7-9a41-4c8e-9d6c-fae808aaed58",
   "metadata": {},
   "source": [
    "### **Exercise 5:**\n",
    "Create a function that returns a list of all pairs of factors (as tuples) of a given number using list comprehension."
   ]
  },
  {
   "cell_type": "code",
   "execution_count": 12,
   "id": "657592fc-67cd-45ca-b927-75668ce528ac",
   "metadata": {},
   "outputs": [],
   "source": [
    "def factors(num):\n",
    "    all_factors = [_ for _ in range(1,num+1) if num%_==0] # list of all integer factors\n",
    "    factors_list = []\n",
    "    for i in range(len(all_factors)//2):\n",
    "        factors_list.append( (all_factors[i],all_factors[-(i+1)]) )\n",
    "    return factors_list"
   ]
  },
  {
   "cell_type": "code",
   "execution_count": 13,
   "id": "9728e15c-c157-4f0d-b54b-0fac46651465",
   "metadata": {},
   "outputs": [
    {
     "name": "stdout",
     "output_type": "stream",
     "text": [
      "[(1, 24), (2, 12), (3, 8), (4, 6)]\n",
      "[(1, 35), (5, 7)]\n"
     ]
    }
   ],
   "source": [
    "# try for 24 and 35\n",
    "print(factors(24))\n",
    "print(factors(35))"
   ]
  },
  {
   "cell_type": "markdown",
   "id": "28f55bf9-cf48-47dd-bd5a-3f4ce689c714",
   "metadata": {},
   "source": [
    "### **Exercise 6:**\n",
    "Create a list of all numbers divisible by 3 and smaller than 1000 in 4 different ways:\n",
    " \n",
    " - naive way where you just create a list and append data in a loop\n",
    " - using list comprehension\n",
    " - slicing an existing list\n",
    " - directly with `range()`\n",
    "\n",
    "Time all of them."
   ]
  },
  {
   "cell_type": "markdown",
   "id": "26fbb7e1-1d0e-454f-af98-63f81c332052",
   "metadata": {},
   "source": [
    "**Way 1**\n",
    " - naive way where you just create a list and append data in a loop"
   ]
  },
  {
   "cell_type": "code",
   "execution_count": 14,
   "id": "35db1732-83cf-4b27-82e9-ffed22d7888f",
   "metadata": {},
   "outputs": [],
   "source": [
    "def naive_way(num=3,lim=1000):\n",
    "    div_num = []\n",
    "    for i in range(1,lim):\n",
    "        if (i%3 == 0): div_num.append(i)\n",
    "    return div_num"
   ]
  },
  {
   "cell_type": "code",
   "execution_count": 15,
   "id": "8f34231e-340e-4473-9007-ed24c213bfaa",
   "metadata": {},
   "outputs": [
    {
     "name": "stdout",
     "output_type": "stream",
     "text": [
      "[3, 6, 9, 12, 15, 18, 21, 24, 27, 30, 33, 36, 39, 42, 45, 48, 51, 54, 57, 60, 63, 66, 69, 72, 75, 78, 81, 84, 87, 90, 93, 96, 99, 102, 105, 108, 111, 114, 117, 120, 123, 126, 129, 132, 135, 138, 141, 144, 147, 150, 153, 156, 159, 162, 165, 168, 171, 174, 177, 180, 183, 186, 189, 192, 195, 198, 201, 204, 207, 210, 213, 216, 219, 222, 225, 228, 231, 234, 237, 240, 243, 246, 249, 252, 255, 258, 261, 264, 267, 270, 273, 276, 279, 282, 285, 288, 291, 294, 297, 300, 303, 306, 309, 312, 315, 318, 321, 324, 327, 330, 333, 336, 339, 342, 345, 348, 351, 354, 357, 360, 363, 366, 369, 372, 375, 378, 381, 384, 387, 390, 393, 396, 399, 402, 405, 408, 411, 414, 417, 420, 423, 426, 429, 432, 435, 438, 441, 444, 447, 450, 453, 456, 459, 462, 465, 468, 471, 474, 477, 480, 483, 486, 489, 492, 495, 498, 501, 504, 507, 510, 513, 516, 519, 522, 525, 528, 531, 534, 537, 540, 543, 546, 549, 552, 555, 558, 561, 564, 567, 570, 573, 576, 579, 582, 585, 588, 591, 594, 597, 600, 603, 606, 609, 612, 615, 618, 621, 624, 627, 630, 633, 636, 639, 642, 645, 648, 651, 654, 657, 660, 663, 666, 669, 672, 675, 678, 681, 684, 687, 690, 693, 696, 699, 702, 705, 708, 711, 714, 717, 720, 723, 726, 729, 732, 735, 738, 741, 744, 747, 750, 753, 756, 759, 762, 765, 768, 771, 774, 777, 780, 783, 786, 789, 792, 795, 798, 801, 804, 807, 810, 813, 816, 819, 822, 825, 828, 831, 834, 837, 840, 843, 846, 849, 852, 855, 858, 861, 864, 867, 870, 873, 876, 879, 882, 885, 888, 891, 894, 897, 900, 903, 906, 909, 912, 915, 918, 921, 924, 927, 930, 933, 936, 939, 942, 945, 948, 951, 954, 957, 960, 963, 966, 969, 972, 975, 978, 981, 984, 987, 990, 993, 996, 999]\n"
     ]
    }
   ],
   "source": [
    "print(naive_way(3,1000))"
   ]
  },
  {
   "cell_type": "code",
   "execution_count": 16,
   "id": "0b9f32b8-d888-47b6-94fe-514ffa072ae8",
   "metadata": {},
   "outputs": [
    {
     "name": "stdout",
     "output_type": "stream",
     "text": [
      "56.5 µs ± 206 ns per loop (mean ± std. dev. of 7 runs, 10,000 loops each)\n"
     ]
    }
   ],
   "source": [
    "%timeit naive_way()"
   ]
  },
  {
   "cell_type": "markdown",
   "id": "101ba2e3-8dc5-45e5-ad5c-614956f8d8bb",
   "metadata": {},
   "source": [
    "**Way 2**\n",
    "- using list comprehension"
   ]
  },
  {
   "cell_type": "code",
   "execution_count": 17,
   "id": "85a6642a-684c-4fdd-919d-79cd9d4dd741",
   "metadata": {},
   "outputs": [
    {
     "name": "stdout",
     "output_type": "stream",
     "text": [
      "[3, 6, 9, 12, 15, 18, 21, 24, 27, 30, 33, 36, 39, 42, 45, 48, 51, 54, 57, 60, 63, 66, 69, 72, 75, 78, 81, 84, 87, 90, 93, 96, 99, 102, 105, 108, 111, 114, 117, 120, 123, 126, 129, 132, 135, 138, 141, 144, 147, 150, 153, 156, 159, 162, 165, 168, 171, 174, 177, 180, 183, 186, 189, 192, 195, 198, 201, 204, 207, 210, 213, 216, 219, 222, 225, 228, 231, 234, 237, 240, 243, 246, 249, 252, 255, 258, 261, 264, 267, 270, 273, 276, 279, 282, 285, 288, 291, 294, 297, 300, 303, 306, 309, 312, 315, 318, 321, 324, 327, 330, 333, 336, 339, 342, 345, 348, 351, 354, 357, 360, 363, 366, 369, 372, 375, 378, 381, 384, 387, 390, 393, 396, 399, 402, 405, 408, 411, 414, 417, 420, 423, 426, 429, 432, 435, 438, 441, 444, 447, 450, 453, 456, 459, 462, 465, 468, 471, 474, 477, 480, 483, 486, 489, 492, 495, 498, 501, 504, 507, 510, 513, 516, 519, 522, 525, 528, 531, 534, 537, 540, 543, 546, 549, 552, 555, 558, 561, 564, 567, 570, 573, 576, 579, 582, 585, 588, 591, 594, 597, 600, 603, 606, 609, 612, 615, 618, 621, 624, 627, 630, 633, 636, 639, 642, 645, 648, 651, 654, 657, 660, 663, 666, 669, 672, 675, 678, 681, 684, 687, 690, 693, 696, 699, 702, 705, 708, 711, 714, 717, 720, 723, 726, 729, 732, 735, 738, 741, 744, 747, 750, 753, 756, 759, 762, 765, 768, 771, 774, 777, 780, 783, 786, 789, 792, 795, 798, 801, 804, 807, 810, 813, 816, 819, 822, 825, 828, 831, 834, 837, 840, 843, 846, 849, 852, 855, 858, 861, 864, 867, 870, 873, 876, 879, 882, 885, 888, 891, 894, 897, 900, 903, 906, 909, 912, 915, 918, 921, 924, 927, 930, 933, 936, 939, 942, 945, 948, 951, 954, 957, 960, 963, 966, 969, 972, 975, 978, 981, 984, 987, 990, 993, 996, 999]\n"
     ]
    }
   ],
   "source": [
    "print([_ for _ in range(1,1000) if _%3==0])"
   ]
  },
  {
   "cell_type": "code",
   "execution_count": 18,
   "id": "0f4d9bff-af42-460e-b6ba-a78e99c63c01",
   "metadata": {},
   "outputs": [
    {
     "name": "stdout",
     "output_type": "stream",
     "text": [
      "47.7 µs ± 582 ns per loop (mean ± std. dev. of 7 runs, 10,000 loops each)\n"
     ]
    }
   ],
   "source": [
    "%timeit [_ for _ in range(1,1000) if _%3==0]"
   ]
  },
  {
   "cell_type": "markdown",
   "id": "8d90c4c6-dff4-4688-8f1a-b6187a9be29a",
   "metadata": {},
   "source": [
    "**Way 3**\n",
    " - slicing an existing list"
   ]
  },
  {
   "cell_type": "code",
   "execution_count": 19,
   "id": "42d6b6a0-ff76-4c0b-8f80-96ff169b743f",
   "metadata": {},
   "outputs": [],
   "source": [
    "existing_list = list(range(1000))"
   ]
  },
  {
   "cell_type": "code",
   "execution_count": 20,
   "id": "3aff4815-a721-44ac-81ab-3696e3a02eed",
   "metadata": {},
   "outputs": [
    {
     "name": "stdout",
     "output_type": "stream",
     "text": [
      "[3, 6, 9, 12, 15, 18, 21, 24, 27, 30, 33, 36, 39, 42, 45, 48, 51, 54, 57, 60, 63, 66, 69, 72, 75, 78, 81, 84, 87, 90, 93, 96, 99, 102, 105, 108, 111, 114, 117, 120, 123, 126, 129, 132, 135, 138, 141, 144, 147, 150, 153, 156, 159, 162, 165, 168, 171, 174, 177, 180, 183, 186, 189, 192, 195, 198, 201, 204, 207, 210, 213, 216, 219, 222, 225, 228, 231, 234, 237, 240, 243, 246, 249, 252, 255, 258, 261, 264, 267, 270, 273, 276, 279, 282, 285, 288, 291, 294, 297, 300, 303, 306, 309, 312, 315, 318, 321, 324, 327, 330, 333, 336, 339, 342, 345, 348, 351, 354, 357, 360, 363, 366, 369, 372, 375, 378, 381, 384, 387, 390, 393, 396, 399, 402, 405, 408, 411, 414, 417, 420, 423, 426, 429, 432, 435, 438, 441, 444, 447, 450, 453, 456, 459, 462, 465, 468, 471, 474, 477, 480, 483, 486, 489, 492, 495, 498, 501, 504, 507, 510, 513, 516, 519, 522, 525, 528, 531, 534, 537, 540, 543, 546, 549, 552, 555, 558, 561, 564, 567, 570, 573, 576, 579, 582, 585, 588, 591, 594, 597, 600, 603, 606, 609, 612, 615, 618, 621, 624, 627, 630, 633, 636, 639, 642, 645, 648, 651, 654, 657, 660, 663, 666, 669, 672, 675, 678, 681, 684, 687, 690, 693, 696, 699, 702, 705, 708, 711, 714, 717, 720, 723, 726, 729, 732, 735, 738, 741, 744, 747, 750, 753, 756, 759, 762, 765, 768, 771, 774, 777, 780, 783, 786, 789, 792, 795, 798, 801, 804, 807, 810, 813, 816, 819, 822, 825, 828, 831, 834, 837, 840, 843, 846, 849, 852, 855, 858, 861, 864, 867, 870, 873, 876, 879, 882, 885, 888, 891, 894, 897, 900, 903, 906, 909, 912, 915, 918, 921, 924, 927, 930, 933, 936, 939, 942, 945, 948, 951, 954, 957, 960, 963, 966, 969, 972, 975, 978, 981, 984, 987, 990, 993, 996, 999]\n"
     ]
    }
   ],
   "source": [
    "print(existing_list[3::3])"
   ]
  },
  {
   "cell_type": "code",
   "execution_count": 21,
   "id": "a339f6f6-d0a1-4bce-9e6d-5977ea4d5c7e",
   "metadata": {},
   "outputs": [
    {
     "name": "stdout",
     "output_type": "stream",
     "text": [
      "585 ns ± 1.97 ns per loop (mean ± std. dev. of 7 runs, 1,000,000 loops each)\n"
     ]
    }
   ],
   "source": [
    "%timeit existing_list[3::3]"
   ]
  },
  {
   "cell_type": "markdown",
   "id": "aba32225-4115-40e9-8e8e-5e0946aa85ee",
   "metadata": {},
   "source": [
    "**Way 4**\n",
    " - directly with `range()`"
   ]
  },
  {
   "cell_type": "code",
   "execution_count": 22,
   "id": "3118919d-8cca-4cb1-a953-1c77e15972b4",
   "metadata": {},
   "outputs": [
    {
     "name": "stdout",
     "output_type": "stream",
     "text": [
      "[3, 6, 9, 12, 15, 18, 21, 24, 27, 30, 33, 36, 39, 42, 45, 48, 51, 54, 57, 60, 63, 66, 69, 72, 75, 78, 81, 84, 87, 90, 93, 96, 99, 102, 105, 108, 111, 114, 117, 120, 123, 126, 129, 132, 135, 138, 141, 144, 147, 150, 153, 156, 159, 162, 165, 168, 171, 174, 177, 180, 183, 186, 189, 192, 195, 198, 201, 204, 207, 210, 213, 216, 219, 222, 225, 228, 231, 234, 237, 240, 243, 246, 249, 252, 255, 258, 261, 264, 267, 270, 273, 276, 279, 282, 285, 288, 291, 294, 297, 300, 303, 306, 309, 312, 315, 318, 321, 324, 327, 330, 333, 336, 339, 342, 345, 348, 351, 354, 357, 360, 363, 366, 369, 372, 375, 378, 381, 384, 387, 390, 393, 396, 399, 402, 405, 408, 411, 414, 417, 420, 423, 426, 429, 432, 435, 438, 441, 444, 447, 450, 453, 456, 459, 462, 465, 468, 471, 474, 477, 480, 483, 486, 489, 492, 495, 498, 501, 504, 507, 510, 513, 516, 519, 522, 525, 528, 531, 534, 537, 540, 543, 546, 549, 552, 555, 558, 561, 564, 567, 570, 573, 576, 579, 582, 585, 588, 591, 594, 597, 600, 603, 606, 609, 612, 615, 618, 621, 624, 627, 630, 633, 636, 639, 642, 645, 648, 651, 654, 657, 660, 663, 666, 669, 672, 675, 678, 681, 684, 687, 690, 693, 696, 699, 702, 705, 708, 711, 714, 717, 720, 723, 726, 729, 732, 735, 738, 741, 744, 747, 750, 753, 756, 759, 762, 765, 768, 771, 774, 777, 780, 783, 786, 789, 792, 795, 798, 801, 804, 807, 810, 813, 816, 819, 822, 825, 828, 831, 834, 837, 840, 843, 846, 849, 852, 855, 858, 861, 864, 867, 870, 873, 876, 879, 882, 885, 888, 891, 894, 897, 900, 903, 906, 909, 912, 915, 918, 921, 924, 927, 930, 933, 936, 939, 942, 945, 948, 951, 954, 957, 960, 963, 966, 969, 972, 975, 978, 981, 984, 987, 990, 993, 996, 999]\n"
     ]
    }
   ],
   "source": [
    "print(list(range(3,1000,3)))"
   ]
  },
  {
   "cell_type": "code",
   "execution_count": 23,
   "id": "028d40e9-dadd-444e-aeb1-599aa5ca94ad",
   "metadata": {},
   "outputs": [
    {
     "name": "stdout",
     "output_type": "stream",
     "text": [
      "2.48 µs ± 10.8 ns per loop (mean ± std. dev. of 7 runs, 100,000 loops each)\n"
     ]
    }
   ],
   "source": [
    "%timeit list(range(3,1000,3))"
   ]
  },
  {
   "cell_type": "markdown",
   "id": "f6b18796-b8cc-49b3-a36c-ee988ba705be",
   "metadata": {},
   "source": [
    "It seems that slicing an existing list is the fastest (excluding the time it takes to create the existing list) since we just have to slice. The next fastest is by directly using the range function with step increments of 3."
   ]
  },
  {
   "cell_type": "markdown",
   "id": "8c24730b-8b02-434c-b680-e67838bcb10d",
   "metadata": {},
   "source": [
    "### **Exercise 7:**\n",
    "Write a function to check if a string (containing spaces and capital letters, but no punctuation marks) is a palindrome (use help to see which functions are available for a string). "
   ]
  },
  {
   "cell_type": "code",
   "execution_count": 24,
   "id": "0083e935-53ef-43e7-b22c-d1a5fc7a07d3",
   "metadata": {},
   "outputs": [],
   "source": [
    "def check_palindrome(str_pal):\n",
    "    return str_pal.replace(' ','').lower()[::-1] == str_pal.replace(' ','').lower() # ignore spaces and capitalization"
   ]
  },
  {
   "cell_type": "code",
   "execution_count": 25,
   "id": "43bfa0ed-812d-487d-b228-99f012044828",
   "metadata": {},
   "outputs": [
    {
     "name": "stdout",
     "output_type": "stream",
     "text": [
      "False\n"
     ]
    }
   ],
   "source": [
    "#try for non-palindrome\n",
    "print(check_palindrome('qwertyuiop'))"
   ]
  },
  {
   "cell_type": "code",
   "execution_count": 26,
   "id": "0579feb9-1c7c-47b1-863d-5271a7e7de03",
   "metadata": {},
   "outputs": [
    {
     "name": "stdout",
     "output_type": "stream",
     "text": [
      "True\n"
     ]
    }
   ],
   "source": [
    "#try for palindrome\n",
    "print(check_palindrome('racecar'))"
   ]
  },
  {
   "cell_type": "code",
   "execution_count": 27,
   "id": "dfb0d5ee-f0cb-4c26-8181-f9bd1d52ad35",
   "metadata": {},
   "outputs": [
    {
     "name": "stdout",
     "output_type": "stream",
     "text": [
      "True\n"
     ]
    }
   ],
   "source": [
    "#try for palindrome but with spaces and capital letters\n",
    "print(check_palindrome('Do geese see God'))"
   ]
  },
  {
   "cell_type": "markdown",
   "id": "89e7d2cd-522a-439b-8f3c-ba0f42244e84",
   "metadata": {},
   "source": [
    "### **Exercise 8:**\n",
    "Write a function to find a character with a maximum number of occurences in a string. Return a tuple with that character and the number. You can ignore ties. Only use string's inbuilt functions and the function `max` (use help to see how to use it)."
   ]
  },
  {
   "cell_type": "code",
   "execution_count": 28,
   "id": "9cceea7b-20b5-4d62-978b-9eeba67c978b",
   "metadata": {},
   "outputs": [],
   "source": [
    "def max_occ(str_max):\n",
    "    count_occ = [len([_ for _ in str_max if _==i]) for i in set(str_max)] # count of occurences of characters in str_max\n",
    "    i = count_occ.index(max(count_occ)) # find index of max count\n",
    "    return (list(set(str_max))[i],count_occ[i])"
   ]
  },
  {
   "cell_type": "code",
   "execution_count": 29,
   "id": "2871e13e-1cb7-4b56-9467-99a2d4fda811",
   "metadata": {},
   "outputs": [
    {
     "name": "stdout",
     "output_type": "stream",
     "text": [
      "('d', 7)\n"
     ]
    }
   ],
   "source": [
    "# try for some random string\n",
    "str_max = 'fdtredwtgrdddrfesdd'\n",
    "print(max_occ(str_max))"
   ]
  },
  {
   "cell_type": "markdown",
   "id": "0da5dae1-9ed2-45e3-97d5-462c32e77b78",
   "metadata": {
    "tags": []
   },
   "source": [
    "### **Exercise 9:**\n",
    "Write a function that return the first N prime numbers using the Sieve of Eratosphenes algorithm\n",
    "\n",
    "https://en.wikipedia.org/wiki/Sieve_of_Eratosthenes"
   ]
  },
  {
   "cell_type": "markdown",
   "id": "5769942c-bfac-4294-bbe0-51f09da931d8",
   "metadata": {
    "tags": []
   },
   "source": [
    "#### From wiki\n",
    "- Create a list of consecutive integers from 2 through n: (2, 3, 4, ..., n).\n",
    "- Initially, let p equal 2, the smallest prime number.\n",
    "- Enumerate the multiples of p by counting in increments of p from 2p to n, and mark them in the list (these will be 2p, 3p, 4p, ...; the p itself should not be marked).\n",
    "- Find the smallest number in the list greater than p that is not marked. If there was no such number, stop. Otherwise, let p now equal this new number (which is the next prime), and repeat from step 3.\n",
    "- When the algorithm terminates, the numbers remaining not marked in the list are all the primes below n."
   ]
  },
  {
   "cell_type": "code",
   "execution_count": 90,
   "id": "f029a2c6-0872-436b-a628-92d1882a52ac",
   "metadata": {},
   "outputs": [],
   "source": [
    "def prime_sieve(n):\n",
    "    arr1 = [_ for _ in range(2,n+1)]\n",
    "\n",
    "    a = [True for _ in range(2,n+1)]\n",
    "    for i in range(2,int(n**(1./2))+1):\n",
    "        if a[i-2]:\n",
    "            j = 0\n",
    "            while ((i**2 + j*i) <= n):\n",
    "                a[i**2 + j*i - 2] = False\n",
    "                j+=1\n",
    "\n",
    "    return [arr1[i] for i in range(n-1) if a[i]]"
   ]
  },
  {
   "cell_type": "code",
   "execution_count": 92,
   "id": "152760ff-8e5a-44b1-8444-d29ecdf111cf",
   "metadata": {},
   "outputs": [
    {
     "data": {
      "text/plain": [
       "[2, 3, 5, 7, 11, 13, 17, 19, 23, 29, 31, 37, 41, 43, 47, 53, 59, 61, 67]"
      ]
     },
     "execution_count": 92,
     "metadata": {},
     "output_type": "execute_result"
    }
   ],
   "source": [
    "prime_sieve(67)"
   ]
  }
 ],
 "metadata": {
  "kernelspec": {
   "display_name": "Python 3 (ipykernel)",
   "language": "python",
   "name": "python3"
  },
  "language_info": {
   "codemirror_mode": {
    "name": "ipython",
    "version": 3
   },
   "file_extension": ".py",
   "mimetype": "text/x-python",
   "name": "python",
   "nbconvert_exporter": "python",
   "pygments_lexer": "ipython3",
   "version": "3.9.12"
  }
 },
 "nbformat": 4,
 "nbformat_minor": 5
}
