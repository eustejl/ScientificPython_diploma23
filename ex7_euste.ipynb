{
 "cells": [
  {
   "cell_type": "code",
   "execution_count": 1,
   "id": "a24b5d49-cd64-455f-898c-add6294c7b91",
   "metadata": {},
   "outputs": [],
   "source": [
    "import numpy as np\n",
    "import matplotlib.pyplot as plt"
   ]
  },
  {
   "cell_type": "markdown",
   "id": "d11517f7-d25e-4ddd-8cf5-95cf809e8bb5",
   "metadata": {},
   "source": [
    "### **Exercise1:**\n",
    "\n",
    "Create a class Person that represents a person and has the following attributes:\n",
    "\n",
    " - first_name: The first name of the person.\n",
    " - last_name: The last name of the person.\n",
    " - age: The age of the person.\n",
    "\n",
    "And the following methods:\n",
    "\n",
    " - full_name: Returns the full name of the person, which is the combination of their first and last name.\n",
    " - is_adult: Returns True if the person is 18 years or older, and False otherwise.\n"
   ]
  },
  {
   "cell_type": "code",
   "execution_count": 16,
   "id": "58760a3f-4fd1-401d-a6b4-b4b7f64efd61",
   "metadata": {},
   "outputs": [],
   "source": [
    "class Person:\n",
    "    '''\n",
    "    This is a docstring. lol\n",
    "    '''\n",
    "    \n",
    "    def __init__(self,f_name,l_name,age):\n",
    "        self.f_name = f_name\n",
    "        self.l_name = l_name\n",
    "        self.age = age\n",
    "    \n",
    "    def full_name(self):\n",
    "        self.full_name = f'{self.f_name} {self.l_name}'\n",
    "        return self.full_name\n",
    "    \n",
    "    def is_adult(self):\n",
    "        if self.age>=18: return True\n",
    "        else: return False"
   ]
  },
  {
   "cell_type": "code",
   "execution_count": 26,
   "id": "d1c324d5-3db7-4ccb-85c7-3c0bf61f24d0",
   "metadata": {},
   "outputs": [],
   "source": [
    "jl = Person('John Lawrence','Euste',26)"
   ]
  },
  {
   "cell_type": "code",
   "execution_count": 37,
   "id": "41c71e51-e11d-4037-bf5b-e66f62552a48",
   "metadata": {},
   "outputs": [
    {
     "data": {
      "text/plain": [
       "'John Lawrence Euste'"
      ]
     },
     "execution_count": 37,
     "metadata": {},
     "output_type": "execute_result"
    }
   ],
   "source": [
    "jl.full_name()"
   ]
  },
  {
   "cell_type": "code",
   "execution_count": 19,
   "id": "d0225ec4-9884-4082-b443-c90ba3b36850",
   "metadata": {},
   "outputs": [
    {
     "data": {
      "text/plain": [
       "\u001b[0;31mInit signature:\u001b[0m \u001b[0mPerson\u001b[0m\u001b[0;34m(\u001b[0m\u001b[0mf_name\u001b[0m\u001b[0;34m,\u001b[0m \u001b[0ml_name\u001b[0m\u001b[0;34m,\u001b[0m \u001b[0mage\u001b[0m\u001b[0;34m)\u001b[0m\u001b[0;34m\u001b[0m\u001b[0;34m\u001b[0m\u001b[0m\n",
       "\u001b[0;31mDocstring:\u001b[0m      This is a docstring. lol\n",
       "\u001b[0;31mType:\u001b[0m           type\n",
       "\u001b[0;31mSubclasses:\u001b[0m     \n"
      ]
     },
     "metadata": {},
     "output_type": "display_data"
    }
   ],
   "source": [
    "Person?"
   ]
  },
  {
   "cell_type": "code",
   "execution_count": 22,
   "id": "2efe2745-24f2-4960-805f-c9d2a1d5bf76",
   "metadata": {},
   "outputs": [],
   "source": [
    "pi_val = 3.1415"
   ]
  },
  {
   "cell_type": "markdown",
   "id": "ea29074e-7dd7-48c6-bfd9-03860cffc268",
   "metadata": {
    "tags": []
   },
   "source": [
    "### **Exercise2:**\n",
    "\n",
    "Create your own class for complex numbers. Make sure all the arithmetic operations work and that you can print it. "
   ]
  },
  {
   "cell_type": "code",
   "execution_count": 75,
   "id": "edc1b9a0-7b9e-4a36-a865-918435ea1063",
   "metadata": {},
   "outputs": [
    {
     "data": {
      "text/plain": [
       "(1+2j)"
      ]
     },
     "execution_count": 75,
     "metadata": {},
     "output_type": "execute_result"
    }
   ],
   "source": [
    "complex(1,2)"
   ]
  },
  {
   "cell_type": "code",
   "execution_count": 87,
   "id": "f7c10048-33e8-44cc-b1fe-f84fef5039bb",
   "metadata": {},
   "outputs": [],
   "source": [
    "class My_Complex:\n",
    "    '''\n",
    "    Complex numbers c = x + iy\n",
    "    '''\n",
    "    \n",
    "    def __init__(self,x,y):\n",
    "        self.real = x\n",
    "        self.imaginary = y\n",
    "        \n",
    "    def euler_angle(self):\n",
    "        self.angle = np.arctan(self.imaginary/self.real)\n",
    "        return self.angle\n",
    "    \n",
    "    def conjugate(self):\n",
    "        return self.real,-self.imaginary\n",
    "    \n",
    "    def values(self):\n",
    "        return np.array([self.real,self.imaginary])\n",
    "    \n",
    "    def Cartesian(self):\n",
    "        return f'{self.real} + {self.imaginary}j'\n",
    "        \n",
    "        "
   ]
  },
  {
   "cell_type": "code",
   "execution_count": 88,
   "id": "dee876b3-7ba3-4eea-a55a-1813e8043dab",
   "metadata": {},
   "outputs": [],
   "source": [
    "mc = My_Complex(1,2)"
   ]
  },
  {
   "cell_type": "code",
   "execution_count": 89,
   "id": "4b9b21fc-b2d2-4a79-9263-4a6c9f54892b",
   "metadata": {},
   "outputs": [
    {
     "data": {
      "text/plain": [
       "'1 + 2j'"
      ]
     },
     "execution_count": 89,
     "metadata": {},
     "output_type": "execute_result"
    }
   ],
   "source": [
    "mc.Cartesian()"
   ]
  },
  {
   "cell_type": "code",
   "execution_count": 85,
   "id": "29394f12-976b-4270-9d7f-acbcb474270f",
   "metadata": {},
   "outputs": [],
   "source": [
    "mc2 = My_Complex(2,3)"
   ]
  },
  {
   "cell_type": "code",
   "execution_count": 86,
   "id": "6765feee-ffe4-4dc2-bacb-ca1649c8583c",
   "metadata": {},
   "outputs": [
    {
     "data": {
      "text/plain": [
       "array([3, 5])"
      ]
     },
     "execution_count": 86,
     "metadata": {},
     "output_type": "execute_result"
    }
   ],
   "source": [
    "mc.values() + mc2.values()"
   ]
  },
  {
   "cell_type": "code",
   "execution_count": 50,
   "id": "ec17d00b-3c7d-4f41-8eb9-b7a4fe2442c3",
   "metadata": {},
   "outputs": [
    {
     "data": {
      "text/plain": [
       "1.1071487177940904"
      ]
     },
     "execution_count": 50,
     "metadata": {},
     "output_type": "execute_result"
    }
   ],
   "source": [
    "mc.euler_angle()"
   ]
  },
  {
   "cell_type": "code",
   "execution_count": 51,
   "id": "6a1162b8-b9b2-4ad6-9972-b96c70bacbad",
   "metadata": {},
   "outputs": [
    {
     "data": {
      "text/plain": [
       "(1, -2)"
      ]
     },
     "execution_count": 51,
     "metadata": {},
     "output_type": "execute_result"
    }
   ],
   "source": [
    "mc.conjugate()"
   ]
  },
  {
   "cell_type": "markdown",
   "id": "056adf91-6ce7-45f5-b89a-fad02b9198c0",
   "metadata": {},
   "source": [
    "### **Exercise3:**\n",
    "\n",
    "Create a \"wrapper class\" for around numpy array for operations on matrices. You should be able to execute the following code:\n",
    "\n",
    "```\n",
    "N=4\n",
    "matrix1=MyMatrix(N) #creates a square matrix\n",
    "matrix2=MyMatrix(N)\n",
    "print(matrix1.inverse())\n",
    "print(matrix1.determinant())\n",
    "print(matrix1.eigenvalues())\n",
    "print(matrix1+matrix2)\n",
    "print(matrix1*matrix2)\n",
    "```"
   ]
  },
  {
   "cell_type": "code",
   "execution_count": 62,
   "id": "1c81c97d-ed07-4cba-827b-c6e302980ad1",
   "metadata": {},
   "outputs": [
    {
     "data": {
      "text/plain": [
       "<__main__.Person at 0x7f47d817ab50>"
      ]
     },
     "execution_count": 62,
     "metadata": {},
     "output_type": "execute_result"
    }
   ],
   "source": [
    "    \n",
    "    "
   ]
  },
  {
   "cell_type": "markdown",
   "id": "567e2e56-b9fa-49ff-b672-a040cc537818",
   "metadata": {},
   "source": [
    "### **Exercise4:**\n",
    "\n",
    "Write a class to \"solve\" the exercise 3 of \"exercises6\". You should be able to execute the following code:\n",
    "\n",
    "```\n",
    "solution=Exericise4()\n",
    "int1=solution.integrate_scipy()\n",
    "int2=solution.integrate_simpy()\n",
    "print(int1)\n",
    "print(int2)\n",
    "solution.display()\n",
    "```"
   ]
  },
  {
   "cell_type": "code",
   "execution_count": 220,
   "id": "d9309b44-139d-41e2-a262-9a645e1d9343",
   "metadata": {},
   "outputs": [],
   "source": [
    "class Exercise4: # parent\n",
    "    \n",
    "    def __init__(self,x):\n",
    "        self.x = x\n",
    "\n",
    "    def funct(self,x):\n",
    "        y = x**2 + 10*np.sin(x)\n",
    "        \n",
    "        self.y = y\n",
    "        return y\n",
    "    \n",
    "    def plot_area(self):\n",
    "        plt.plot(self.x,self.funct(self.x),'r')\n",
    "        plt.fill_between(self.x,self.funct(self.x),where = (self.x>-10) & (self.x<10) ,color='lightgray')\n",
    "        plt.axhline(0,color='gray',lw=0.5)\n",
    "        plt.show()\n",
    "        \n",
    "    def integrate_scipy(self):\n",
    "        from scipy.integrate import quad\n",
    "        \n",
    "        return quad(self.funct,-10,10)[0]\n",
    "    \n",
    "    def integrate_sympy(self):\n",
    "        from sympy import symbols, sin, integrate\n",
    "        \n",
    "        t = symbols('x')\n",
    "        return integrate(t**2 + 10*sin(t),(t,-10,10) )\n",
    "        "
   ]
  },
  {
   "cell_type": "code",
   "execution_count": 214,
   "id": "989a08f9-ec6e-4c36-91b5-a1fe66531790",
   "metadata": {},
   "outputs": [],
   "source": [
    "x = np.linspace(-15,15)"
   ]
  },
  {
   "cell_type": "code",
   "execution_count": 221,
   "id": "8af8b512-8b01-42a5-8989-e35702d5d750",
   "metadata": {},
   "outputs": [],
   "source": [
    "solution = Exercise4(x)"
   ]
  },
  {
   "cell_type": "code",
   "execution_count": 222,
   "id": "2105ca11-5c0e-4c54-bc70-41bde7b8239b",
   "metadata": {},
   "outputs": [
    {
     "data": {
      "image/png": "[encoded data removed]",
      "text/plain": [
       "<Figure size 432x288 with 1 Axes>"
      ]
     },
     "metadata": {
      "needs_background": "light"
     },
     "output_type": "display_data"
    }
   ],
   "source": [
    "solution.plot_area()"
   ]
  },
  {
   "cell_type": "code",
   "execution_count": 223,
   "id": "c4bfbe73-9990-401d-803b-e2bbc13cb5d2",
   "metadata": {},
   "outputs": [
    {
     "data": {
      "text/plain": [
       "666.6666666666667"
      ]
     },
     "execution_count": 223,
     "metadata": {},
     "output_type": "execute_result"
    }
   ],
   "source": [
    "solution.integrate_scipy()"
   ]
  },
  {
   "cell_type": "code",
   "execution_count": 225,
   "id": "45f1d962-0e60-4c3b-80c8-953796e990d1",
   "metadata": {},
   "outputs": [
    {
     "data": {
      "text/latex": [
       "$\\displaystyle \\frac{2000}{3}$"
      ],
      "text/plain": [
       "2000/3"
      ]
     },
     "execution_count": 225,
     "metadata": {},
     "output_type": "execute_result"
    }
   ],
   "source": [
    "solution.integrate_sympy()"
   ]
  },
  {
   "cell_type": "code",
   "execution_count": null,
   "id": "2df0583c-0132-4127-b127-f1866549b10a",
   "metadata": {},
   "outputs": [],
   "source": []
  }
 ],
 "metadata": {
  "kernelspec": {
   "display_name": "Python 3 (ipykernel)",
   "language": "python",
   "name": "python3"
  },
  "language_info": {
   "codemirror_mode": {
    "name": "ipython",
    "version": 3
   },
   "file_extension": ".py",
   "mimetype": "text/x-python",
   "name": "python",
   "nbconvert_exporter": "python",
   "pygments_lexer": "ipython3",
   "version": "3.9.12"
  }
 },
 "nbformat": 4,
 "nbformat_minor": 5
}
