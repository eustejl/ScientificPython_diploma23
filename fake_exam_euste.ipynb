{
 "cells": [
  {
   "cell_type": "markdown",
   "id": "50f40fbb-7263-4005-ad72-822ab5498d41",
   "metadata": {},
   "source": [
    "**Little questions that I would have asked if we had an oral exam:**\n",
    "(meaning that you shouldn't read or google or think for more than 5 seconds to answer them)\n",
    "\n",
    " - How do you create markdown cell in Jupyter? (with keyboard commands)\n",
    " - How do you add a cell above the current one in Jupyter (with keyboard command)? \n",
    " - What does it mean that variables are dynamically typed in python?\n",
    " - What's the difference between python and Fortran integers?\n",
    " - Explain the difference between lists, sets and tuples in python.\n",
    " - What does negative index mean when accessing list elements?\n",
    " - How do you print the first N elements of a list?\n",
    " - How do you print every Nth element of a list?\n",
    " - How do you print the reverse list?\n",
    " - Give an example of a list comprehension.\n",
    " - Give an example of cell and line magic commands in Jupyter.\n",
    " - What are keyword function arguments in python and what is their advantage?\n",
    " - Why shouldn't you do from numpy import *?\n",
    " - What is the advantage of using numpy arrays over lists? What are the dangers?\n",
    " - What's the purpose of __str__ method in a python class?\n",
    " - What package can you use in python for symbolic calculations?\n",
    "\n"
   ]
  },
  {
   "cell_type": "code",
   "execution_count": 3,
   "id": "b178aa06-9315-44d3-b831-c81e6e023376",
   "metadata": {},
   "outputs": [],
   "source": [
    "import numpy as np\n",
    "import pandas as pd\n",
    "import matplotlib.pyplot as plt"
   ]
  },
  {
   "cell_type": "code",
   "execution_count": 4,
   "id": "79c385f8-6579-442d-898d-501ba2418ae5",
   "metadata": {},
   "outputs": [],
   "source": [
    "np.random.seed(42)"
   ]
  },
  {
   "cell_type": "markdown",
   "id": "83c1f234-b71f-40fd-a55e-4af85dc6b142",
   "metadata": {},
   "source": [
    "### **Problem1:**\n",
    "\n",
    "Write a function that calculates the first N [Fibonacci numbers](https://en.wikipedia.org/wiki/Fibonacci_number)."
   ]
  },
  {
   "cell_type": "code",
   "execution_count": 5,
   "id": "625bb474-9571-4549-9e97-d4521ca5af0d",
   "metadata": {},
   "outputs": [],
   "source": [
    "def fibonacci(N):\n",
    "    a = 0\n",
    "    b = 1\n",
    "    \n",
    "    fib = [a,b]\n",
    "    for i in range(N-2):\n",
    "        c = b+a\n",
    "        a = b\n",
    "        b = c\n",
    "        fib.append(c)  \n",
    "        \n",
    "    return fib"
   ]
  },
  {
   "cell_type": "code",
   "execution_count": 6,
   "id": "bc07dc9c-ad95-43da-916a-9a7d358623bb",
   "metadata": {},
   "outputs": [
    {
     "data": {
      "text/plain": [
       "[0, 1, 1, 2, 3]"
      ]
     },
     "execution_count": 6,
     "metadata": {},
     "output_type": "execute_result"
    }
   ],
   "source": [
    "fibonacci(5)"
   ]
  },
  {
   "cell_type": "markdown",
   "id": "7f5e1222-ff80-4c66-b304-b6a8200cde1f",
   "metadata": {},
   "source": [
    "### **Problem2:**\n",
    "\n",
    "Generate random data for 2D points coordinates. Write a function that plots them with different colors for each 90 degree section with the origin in the center. This problem should be coded as a class, i.e. you should be able to execute the code:\n",
    "\n",
    "```\n",
    "pr=Problem2()\n",
    "pr.generate()\n",
    "pr.display()\n",
    "```"
   ]
  },
  {
   "cell_type": "code",
   "execution_count": 19,
   "id": "919a8a9d-189f-4884-8a54-b8845ab22316",
   "metadata": {},
   "outputs": [],
   "source": [
    "class Problem2:\n",
    "    def __init__(self,N=200):\n",
    "        self.N = N\n",
    "        \n",
    "    def generate(self):\n",
    "        self.x = np.random.normal(size=self.N)\n",
    "        self.y = np.random.normal(size=self.N)         \n",
    "        \n",
    "    def display(self):       \n",
    "        plt.plot(self.x[(self.x>=0) & (self.y>=0)],self.y[(self.x>=0) & (self.y>=0)],'o',color='C0')\n",
    "        plt.plot(self.x[(self.x>=0) & (self.y<=0)],self.y[(self.x>=0) & (self.y<=0)],'o',color='C1')\n",
    "        plt.plot(self.x[(self.x<=0) & (self.y<=0)],self.y[(self.x<=0) & (self.y<=0)],'o',color='C2')\n",
    "        plt.plot(self.x[(self.x<=0) & (self.y>=0)],self.y[(self.x<=0) & (self.y>=0)],'o',color='C3')\n",
    "        plt.show()\n",
    "        \n",
    "    \n",
    "    "
   ]
  },
  {
   "cell_type": "code",
   "execution_count": 20,
   "id": "5b873c4e-e9f0-4cdf-baf4-fe464ab23b72",
   "metadata": {},
   "outputs": [
    {
     "data": {
      "image/png": "[encoded data removed]",
      "text/plain": [
       "<Figure size 432x288 with 1 Axes>"
      ]
     },
     "metadata": {
      "needs_background": "light"
     },
     "output_type": "display_data"
    }
   ],
   "source": [
    "pr=Problem2()\n",
    "pr.generate()\n",
    "pr.display()"
   ]
  },
  {
   "cell_type": "code",
   "execution_count": null,
   "id": "5ebe7b2f-df52-4482-9dfc-057146695dc4",
   "metadata": {},
   "outputs": [],
   "source": []
  },
  {
   "cell_type": "markdown",
   "id": "d86d921a-3868-42b6-bfa6-bf9a0ee4b7aa",
   "metadata": {},
   "source": [
    "### **Problem3:**\n",
    "\n",
    "Write a decorator that calls a function twice."
   ]
  },
  {
   "cell_type": "code",
   "execution_count": 29,
   "id": "cad3cff4-6567-429d-8fc2-562efe33c9f6",
   "metadata": {},
   "outputs": [],
   "source": [
    "def call_twice(f):\n",
    "    def wrapper(self):\n",
    "        f(self)\n",
    "        f(self)\n",
    "    return wrapper"
   ]
  },
  {
   "cell_type": "code",
   "execution_count": 32,
   "id": "7c30a1fc-0097-4578-b695-cfe892ae0e74",
   "metadata": {},
   "outputs": [],
   "source": [
    "@call_twice\n",
    "def fibonacci(N):\n",
    "    a = 0\n",
    "    b = 1\n",
    "    \n",
    "    fib = [a,b]\n",
    "    for i in range(N-2):\n",
    "        c = b+a\n",
    "        a = b\n",
    "        b = c\n",
    "        fib.append(c)  \n",
    "        \n",
    "    print(fib)"
   ]
  },
  {
   "cell_type": "code",
   "execution_count": 33,
   "id": "dec5ff1b-b64b-4de0-bc34-042ec8111e02",
   "metadata": {},
   "outputs": [
    {
     "name": "stdout",
     "output_type": "stream",
     "text": [
      "[0, 1, 1, 2, 3, 5, 8]\n",
      "[0, 1, 1, 2, 3, 5, 8]\n"
     ]
    }
   ],
   "source": [
    "fibonacci(7)"
   ]
  }
 ],
 "metadata": {
  "kernelspec": {
   "display_name": "Python 3 (ipykernel)",
   "language": "python",
   "name": "python3"
  },
  "language_info": {
   "codemirror_mode": {
    "name": "ipython",
    "version": 3
   },
   "file_extension": ".py",
   "mimetype": "text/x-python",
   "name": "python",
   "nbconvert_exporter": "python",
   "pygments_lexer": "ipython3",
   "version": "3.9.12"
  }
 },
 "nbformat": 4,
 "nbformat_minor": 5
}
