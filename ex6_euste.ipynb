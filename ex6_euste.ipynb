{
 "cells": [
  {
   "cell_type": "code",
   "execution_count": 138,
   "id": "cff76dcf-73e2-4354-8d87-166eee93b525",
   "metadata": {},
   "outputs": [],
   "source": [
    "import numpy as np\n",
    "from scipy import optimize\n",
    "import matplotlib.pyplot as plt\n",
    "import pandas as pd\n",
    "from scipy.linalg import eig"
   ]
  },
  {
   "cell_type": "code",
   "execution_count": 100,
   "id": "b6335a01-2da2-4d62-86d0-53f95098e4fa",
   "metadata": {},
   "outputs": [],
   "source": [
    "np.random.seed(42)"
   ]
  },
  {
   "cell_type": "markdown",
   "id": "efcf1d95-3418-42e4-9d9f-4ff2c0ab896f",
   "metadata": {},
   "source": [
    "#### **Exercise1**\n",
    "\n",
    "Repeat the curve fitting example with the following modifications:\n",
    "\n",
    " - choose some other function\n",
    " - first write the data to a file, then read it (with numpy, for example)\n",
    " - produce the picture that has axes, name and legend"
   ]
  },
  {
   "cell_type": "code",
   "execution_count": 16,
   "id": "568e5b10-4b5b-4e3b-8458-29747ed67f8b",
   "metadata": {},
   "outputs": [
    {
     "data": {
      "text/plain": [
       "array([[-6.20404109e-01, -1.86912777e-22],\n",
       "       [-6.20159968e-01, -1.77827879e-22],\n",
       "       [-6.19915828e-01, -1.68582673e-22],\n",
       "       ...,\n",
       "       [ 5.48888598e-02,  3.58407297e-26],\n",
       "       [ 5.51330004e-02,  3.87926155e-26],\n",
       "       [ 5.53771410e-02,  4.05305739e-26]])"
      ]
     },
     "execution_count": 16,
     "metadata": {},
     "output_type": "execute_result"
    }
   ],
   "source": [
    "signal = np.genfromtxt('./ligo_signal/GW150914_4_NR_waveform.txt')\n",
    "signal"
   ]
  },
  {
   "cell_type": "code",
   "execution_count": 111,
   "id": "80988fd4-628e-44fb-8cf2-87277d303d0d",
   "metadata": {},
   "outputs": [],
   "source": [
    "# Let's generate fake data that we can \"fit\" then \n",
    "def f(x,a,b,c,d,e):\n",
    "    return a*(1 + ((1-x**b)/(c*x)) * np.log(abs((1+d*x)/(1-e*x))))"
   ]
  },
  {
   "cell_type": "code",
   "execution_count": 135,
   "id": "038fcbff-e0e9-4cf9-95a3-217a917697df",
   "metadata": {},
   "outputs": [],
   "source": [
    "x = np.linspace(0.1,6)\n",
    "y = 0.5*(1 + ((1-x**2)/(2*x)) * np.log(abs((1+x)/(1-x)))) + np.random.normal(0,0.02,50) # Lindhard function with noise"
   ]
  },
  {
   "cell_type": "code",
   "execution_count": 136,
   "id": "c5f5b401-b1b1-4710-b413-b5cad52e8ef4",
   "metadata": {},
   "outputs": [
    {
     "name": "stdout",
     "output_type": "stream",
     "text": [
      "[0.52031863 1.8876084  1.99327028 0.99690646 0.92979976]\n"
     ]
    },
    {
     "data": {
      "text/plain": [
       "[<matplotlib.lines.Line2D at 0x7efd38c8c280>]"
      ]
     },
     "execution_count": 136,
     "metadata": {},
     "output_type": "execute_result"
    },
    {
     "data": {
      "image/png": "[encoded data removed]",
      "text/plain": [
       "<Figure size 432x288 with 1 Axes>"
      ]
     },
     "metadata": {
      "needs_background": "light"
     },
     "output_type": "display_data"
    }
   ],
   "source": [
    "params, params_cov = optimize.curve_fit(f, x,y)\n",
    "\n",
    "print(params)\n",
    "# plot the data and the fitted curve\n",
    "plt.plot(x, y, 'bo')\n",
    "plt.plot(x, f(x, *params), 'r-')"
   ]
  },
  {
   "cell_type": "markdown",
   "id": "4246a999-3eab-49fa-a828-6e36c408f24f",
   "metadata": {},
   "source": [
    "#### **Exercise2**\n",
    "\n",
    "Generate a 3 by 3 matrix. Find it's inverse, determinant, eigen values and eigen vectors both by using numpy and scipy functions."
   ]
  },
  {
   "cell_type": "code",
   "execution_count": 144,
   "id": "d17d0ba0-a310-4561-bba0-b5f576b7ab98",
   "metadata": {},
   "outputs": [],
   "source": [
    "hamiltonian = np.array([ [1,2,0], [2,0,2], [0,2,-1]]   )"
   ]
  },
  {
   "cell_type": "code",
   "execution_count": 153,
   "id": "bbbc461c-f54b-4cfa-ad2f-e0fe9b022b95",
   "metadata": {},
   "outputs": [
    {
     "data": {
      "text/plain": [
       "array([[-0.66666667,  0.66666667,  0.33333333],\n",
       "       [-0.66666667, -0.33333333, -0.66666667],\n",
       "       [-0.33333333, -0.66666667,  0.66666667]])"
      ]
     },
     "execution_count": 153,
     "metadata": {},
     "output_type": "execute_result"
    }
   ],
   "source": [
    "eigenenergy,eigenstates = eig(hamiltonian)\n",
    "eigenstates"
   ]
  },
  {
   "cell_type": "code",
   "execution_count": 152,
   "id": "b0bc6a64-1cac-40f6-9afb-dd46abec7cca",
   "metadata": {},
   "outputs": [
    {
     "data": {
      "text/plain": [
       "array([ 3.,  0., -3.])"
      ]
     },
     "execution_count": 152,
     "metadata": {},
     "output_type": "execute_result"
    }
   ],
   "source": [
    "eigenenergy = np.round( eigenenergy).real\n",
    "eigenenergy"
   ]
  },
  {
   "cell_type": "markdown",
   "id": "47b5c5e4-a1d3-444a-99a8-d5f4f1ffd414",
   "metadata": {},
   "source": [
    "#### **Exercise3**\n",
    "\n",
    "Integrate the function `x**2 + 10*np.sin(x)` on the interval `[-10,10]`.\n",
    "Find a way to make a plot like in textbooks where you color the area under the curve that you integrate.\n",
    "Now integrate the same function symbolically using `sympy`, then put borders into it and compare the results."
   ]
  },
  {
   "cell_type": "code",
   "execution_count": 156,
   "id": "0ffdafc2-ad3c-4a88-9ccf-cfa352ed2dc4",
   "metadata": {},
   "outputs": [],
   "source": [
    "x = np.linspace(-15,15)\n",
    "y = x**2 + 10*np.sin(x)"
   ]
  },
  {
   "cell_type": "code",
   "execution_count": 171,
   "id": "2149d67c-a796-4679-bc62-4111bfb68a53",
   "metadata": {},
   "outputs": [
    {
     "data": {
      "image/png": "[encoded data removed]",
      "text/plain": [
       "<Figure size 432x288 with 1 Axes>"
      ]
     },
     "metadata": {
      "needs_background": "light"
     },
     "output_type": "display_data"
    }
   ],
   "source": [
    "plt.plot(x,y,'r')\n",
    "plt.fill_between(x,y,where = (x>-10) & (x<10) ,color='lightgray')\n",
    "plt.axhline(0,color='gray',lw=0.5)\n",
    "plt.show()"
   ]
  },
  {
   "cell_type": "code",
   "execution_count": null,
   "id": "7a85333a-2070-4cee-b792-e6f0be75b962",
   "metadata": {},
   "outputs": [],
   "source": []
  },
  {
   "cell_type": "markdown",
   "id": "85eae3d8-97d7-43cd-bf98-d7ec534d684a",
   "metadata": {},
   "source": [
    "#### **Exercise4**\n",
    "\n",
    "With the help of documentation find 3 different ways to interpolate data produced from the function \n",
    "`np.cos(-x**2/9.0)`. "
   ]
  },
  {
   "cell_type": "markdown",
   "id": "6234b112-f659-4167-a1cb-edb558107c59",
   "metadata": {},
   "source": [
    "#### **Exercise5**"
   ]
  },
  {
   "cell_type": "code",
   "execution_count": null,
   "id": "4800bb0f-5636-47b8-b278-834bdd68203f",
   "metadata": {},
   "outputs": [],
   "source": []
  }
 ],
 "metadata": {
  "kernelspec": {
   "display_name": "Python 3 (ipykernel)",
   "language": "python",
   "name": "python3"
  },
  "language_info": {
   "codemirror_mode": {
    "name": "ipython",
    "version": 3
   },
   "file_extension": ".py",
   "mimetype": "text/x-python",
   "name": "python",
   "nbconvert_exporter": "python",
   "pygments_lexer": "ipython3",
   "version": "3.9.12"
  }
 },
 "nbformat": 4,
 "nbformat_minor": 5
}
