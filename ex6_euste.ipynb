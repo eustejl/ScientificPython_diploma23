{
 "cells": [
  {
   "cell_type": "code",
   "execution_count": 7,
   "id": "cff76dcf-73e2-4354-8d87-166eee93b525",
   "metadata": {},
   "outputs": [],
   "source": [
    "import numpy as np\n",
    "from scipy import optimize\n",
    "import matplotlib.pyplot as plt\n",
    "import pandas as pd"
   ]
  },
  {
   "cell_type": "code",
   "execution_count": 9,
   "id": "b6335a01-2da2-4d62-86d0-53f95098e4fa",
   "metadata": {},
   "outputs": [],
   "source": [
    "np.random.seed(0)"
   ]
  },
  {
   "cell_type": "markdown",
   "id": "efcf1d95-3418-42e4-9d9f-4ff2c0ab896f",
   "metadata": {},
   "source": [
    "#### **Exercise1**\n",
    "\n",
    "Repeat the curve fitting example with the following modifications:\n",
    "\n",
    " - choose some other function\n",
    " - first write the data to a file, then read it (with numpy, for example)\n",
    " - produce the picture that has axes, name and legend"
   ]
  },
  {
   "cell_type": "code",
   "execution_count": 10,
   "id": "80988fd4-628e-44fb-8cf2-87277d303d0d",
   "metadata": {},
   "outputs": [],
   "source": [
    "# Let's generate fake data that we can \"fit\" then \n",
    "def f(x, a, phi):\n",
    "    return np.cos(a * x + phi)"
   ]
  },
  {
   "cell_type": "code",
   "execution_count": 11,
   "id": "481e6d6e-8991-4d7b-a55e-2463508af8b3",
   "metadata": {},
   "outputs": [],
   "source": [
    "#random makes it look like experimental data\n",
    "x = np.linspace(0, 4, 50)\n",
    "y = f(x, 1.3, 0.9) + .1*np.random.normal(size=50)"
   ]
  },
  {
   "cell_type": "code",
   "execution_count": null,
   "id": "c5f5b401-b1b1-4710-b413-b5cad52e8ef4",
   "metadata": {},
   "outputs": [],
   "source": [
    "\n",
    "\n",
    "# Now fit the model: the parameters omega and phi can be found in the\n",
    "# `params` vector\n",
    "params, params_cov = optimize.curve_fit(f, x, y)\n",
    "\n",
    "print(params)\n",
    "\n",
    "# plot the data and the fitted curve\n",
    "plt.plot(x, y, 'bx')\n",
    "plt.plot(x,f(x,1.3,0.9),'g-')\n",
    "plt.plot(x, f(x, *params), 'r-')"
   ]
  },
  {
   "cell_type": "markdown",
   "id": "4246a999-3eab-49fa-a828-6e36c408f24f",
   "metadata": {},
   "source": [
    "#### **Exercise2**\n",
    "\n",
    "Generate a 3 by 3 matrix. Find it's inverse, determinant, eigen values and eigen vectors both by using numpy and scipy functions."
   ]
  },
  {
   "cell_type": "markdown",
   "id": "47b5c5e4-a1d3-444a-99a8-d5f4f1ffd414",
   "metadata": {},
   "source": [
    "#### **Exercise3**\n",
    "\n",
    "Integrate the function `x**2 + 10*np.sin(x)` on the interval `[-10,10]`.\n",
    "Find a way to make a plot like in textbooks where you color the area under the curve that you integrate.\n",
    "Now integrate the same function symbolically using `sympy`, then put borders into it and compare the results."
   ]
  },
  {
   "cell_type": "markdown",
   "id": "85eae3d8-97d7-43cd-bf98-d7ec534d684a",
   "metadata": {},
   "source": [
    "#### **Exercise4**\n",
    "\n",
    "With the help of documentation find 3 different ways to interpolate data produced from the function \n",
    "`np.cos(-x**2/9.0)`. "
   ]
  },
  {
   "cell_type": "markdown",
   "id": "6234b112-f659-4167-a1cb-edb558107c59",
   "metadata": {},
   "source": [
    "#### **Exercise5**"
   ]
  },
  {
   "cell_type": "code",
   "execution_count": null,
   "id": "4800bb0f-5636-47b8-b278-834bdd68203f",
   "metadata": {},
   "outputs": [],
   "source": []
  }
 ],
 "metadata": {
  "kernelspec": {
   "display_name": "Python 3 (ipykernel)",
   "language": "python",
   "name": "python3"
  },
  "language_info": {
   "codemirror_mode": {
    "name": "ipython",
    "version": 3
   },
   "file_extension": ".py",
   "mimetype": "text/x-python",
   "name": "python",
   "nbconvert_exporter": "python",
   "pygments_lexer": "ipython3",
   "version": "3.9.12"
  }
 },
 "nbformat": 4,
 "nbformat_minor": 5
}
